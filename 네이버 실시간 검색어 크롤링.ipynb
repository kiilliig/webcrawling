{
 "cells": [
  {
   "cell_type": "code",
   "execution_count": 48,
   "metadata": {},
   "outputs": [],
   "source": [
    "import requests\n",
    "from bs4 import BeautifulSoup\n",
    "import pandas as pd\n",
    "\n",
    "#기본 구조\n",
    "req = requests.get(\"https://www.naver.com/\")   #html Dom 가져오기\n",
    "html = req.text   # 소스 가져오기\n",
    "soup = BeautifulSoup(html,'html.parser')\n",
    "topRank = soup.find('div',{'class':'ah_roll_area PM_CL_realtimeKeyword_rolling'})\n",
    "lis = topRank.findAll('li')"
   ]
  },
  {
   "cell_type": "code",
   "execution_count": 55,
   "metadata": {},
   "outputs": [],
   "source": [
    "#find가 아닌 select 이용해보기\n",
    "a=[]\n",
    "for li in lis:\n",
    "    rank = li.findAll('span')[0].getText()\n",
    "    issue = li.findAll('span')[1].getText()\n",
    "    a.append([rank,issue])"
   ]
  },
  {
   "cell_type": "code",
   "execution_count": 62,
   "metadata": {},
   "outputs": [
    {
     "data": {
      "text/plain": [
       "[['1', '위메프 22데이'],\n",
       " ['2', '김동성'],\n",
       " ['3', '최민수'],\n",
       " ['4', '최교일'],\n",
       " ['5', '서해금빛열차'],\n",
       " ['6', '킬빌'],\n",
       " ['7', '지랄발광 17세'],\n",
       " ['8', '이필모'],\n",
       " ['9', '대아티아이'],\n",
       " ['10', '해피투게더4'],\n",
       " ['11', '조병규'],\n",
       " ['12', '써니전자'],\n",
       " ['13', '문화누리카드'],\n",
       " ['14', '안철수'],\n",
       " ['15', '경기도교육청'],\n",
       " ['16', '고주원'],\n",
       " ['17', '민진웅'],\n",
       " ['18', '설 인사말'],\n",
       " ['19', '일본 카타르'],\n",
       " ['20', '라이머']]"
      ]
     },
     "execution_count": 62,
     "metadata": {},
     "output_type": "execute_result"
    }
   ],
   "source": [
    "a"
   ]
  },
  {
   "cell_type": "code",
   "execution_count": null,
   "metadata": {},
   "outputs": [],
   "source": []
  },
  {
   "cell_type": "code",
   "execution_count": null,
   "metadata": {},
   "outputs": [],
   "source": []
  }
 ],
 "metadata": {
  "kernelspec": {
   "display_name": "Python 3",
   "language": "python",
   "name": "python3"
  },
  "language_info": {
   "codemirror_mode": {
    "name": "ipython",
    "version": 3
   },
   "file_extension": ".py",
   "mimetype": "text/x-python",
   "name": "python",
   "nbconvert_exporter": "python",
   "pygments_lexer": "ipython3",
   "version": "3.6.5"
  }
 },
 "nbformat": 4,
 "nbformat_minor": 2
}
