{
 "cells": [
  {
   "cell_type": "markdown",
   "metadata": {},
   "source": [
    "# Melon 웹 크롤링\n",
    "\n",
    "#### 참고 사이트\n",
    "#### https://rednooby.tistory.com/98 "
   ]
  },
  {
   "cell_type": "code",
   "execution_count": null,
   "metadata": {},
   "outputs": [],
   "source": []
  },
  {
   "cell_type": "code",
   "execution_count": 4,
   "metadata": {},
   "outputs": [
    {
     "name": "stdout",
     "output_type": "stream",
     "text": [
      "저장되었습니다\n"
     ]
    }
   ],
   "source": [
    "#주소가져오기\n",
    "import urllib.request\n",
    "\n",
    "url=\"http://uta.pw/shodou/img/28/214.png\"\n",
    "savename=\"test.png\"\n",
    "urllib.request.urlretrieve(url,savename) #파일 다운 가능함\n",
    "\n",
    "mem=urllib.request.urlopen(url).read()\n",
    "\n",
    "mem\n",
    "\n",
    "with open(savename,mode=\"wb\") as f:\n",
    "    f.write(mem)\n",
    "    print(\"저장되었습니다\")"
   ]
  },
  {
   "cell_type": "markdown",
   "metadata": {},
   "source": [
    "2강 요청 매개변수\n",
    "요청 방식: get(웹브라우저), post,put.delete \n",
    "요청 대상: url주소 => 호스트 이름 : https://search.naver.com\n",
    "추가적인 정보 : path(경로) : /search.naver\n",
    "-데이터= ?물음표 뒤의 정보 : key=value 의 형식\n",
    "?sm=top_hty\n",
    "&fbm=1\n",
    "&ie=utf8\n",
    "&query=%EC%B4%88%EC%BD%9C%EB%A6%BF\n",
    "https://search.naver.com/search.naver?sm=top_hty&fbm=1&ie=utf8&query=%EC%B4%88%EC%BD%9C%EB%A6%BF"
   ]
  },
  {
   "cell_type": "code",
   "execution_count": null,
   "metadata": {},
   "outputs": [],
   "source": []
  },
  {
   "cell_type": "code",
   "execution_count": null,
   "metadata": {},
   "outputs": [],
   "source": []
  },
  {
   "cell_type": "code",
   "execution_count": null,
   "metadata": {},
   "outputs": [],
   "source": []
  },
  {
   "cell_type": "code",
   "execution_count": null,
   "metadata": {},
   "outputs": [],
   "source": []
  },
  {
   "cell_type": "code",
   "execution_count": null,
   "metadata": {},
   "outputs": [],
   "source": []
  }
 ],
 "metadata": {
  "kernelspec": {
   "display_name": "Python 3",
   "language": "python",
   "name": "python3"
  },
  "language_info": {
   "codemirror_mode": {
    "name": "ipython",
    "version": 3
   },
   "file_extension": ".py",
   "mimetype": "text/x-python",
   "name": "python",
   "nbconvert_exporter": "python",
   "pygments_lexer": "ipython3",
   "version": "3.6.5"
  }
 },
 "nbformat": 4,
 "nbformat_minor": 2
}
