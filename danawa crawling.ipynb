{
 "cells": [
  {
   "cell_type": "markdown",
   "metadata": {},
   "source": [
    "# 다나와 사이트 자동차 실적 크롤링\n",
    "## - carvarzo"
   ]
  },
  {
   "cell_type": "code",
   "execution_count": 9,
   "metadata": {},
   "outputs": [],
   "source": [
    "from bs4 import BeautifulSoup\n",
    "import requests\n",
    "import pandas as pd\n",
    "import openpyxl"
   ]
  },
  {
   "cell_type": "code",
   "execution_count": 10,
   "metadata": {},
   "outputs": [],
   "source": [
    "headers = {'User-Agent':'Mozilla/5.0 (Windows NT 10.0; Win64; x64) AppleWebKit/537.36 (KHTML, like Gecko) Chrome/71.0.3578.98 Safari/537.36'}\n",
    "\n",
    "my_url = 'http://auto.danawa.com/auto/?Work=record&Tab=Model&Month=2018-01-00&MonthTo=' #2018년 1월 모델별 판매실적 사이트\n",
    "resp = requests.get(my_url,headers=headers)\n",
    "html = BeautifulSoup(resp.content,'html.parser')\n"
   ]
  },
  {
   "cell_type": "code",
   "execution_count": 11,
   "metadata": {},
   "outputs": [],
   "source": [
    "#1월 목록만 가져오기\n",
    "\n",
    "grid = html.find('div',{'class':'recordSection'})\n"
   ]
  },
  {
   "cell_type": "code",
   "execution_count": 12,
   "metadata": {},
   "outputs": [],
   "source": [
    "#순위\n",
    "ranks = grid.select('td.rank')\n",
    "\n",
    "ranking = []\n",
    "for rank in ranks:\n",
    "    ranking.append(rank.getText())\n",
    "\n"
   ]
  },
  {
   "cell_type": "code",
   "execution_count": 13,
   "metadata": {},
   "outputs": [],
   "source": [
    "#자동차 모델명\n",
    "modelName = []\n",
    "names = grid.findAll('input')\n",
    "for name in names:\n",
    "     modelName.append(name.get('title'))\n",
    "\n"
   ]
  },
  {
   "cell_type": "code",
   "execution_count": 14,
   "metadata": {},
   "outputs": [],
   "source": [
    "numbers = grid.findAll('td',{'class':'right'})\n"
   ]
  },
  {
   "cell_type": "markdown",
   "metadata": {},
   "source": [
    "산으로 가는듯한 나의 크롤링..   < td class = \"right\" > 의 text가 불러와지지 않아서 삽질을 했다,,"
   ]
  },
  {
   "cell_type": "code",
   "execution_count": 15,
   "metadata": {},
   "outputs": [],
   "source": [
    "#판매량 크롤링\n",
    "\n",
    "salesNum = []\n",
    "rate = []    #점유율\n",
    "lm = []    #전월 판매량\n",
    "lm_rate = []   #전월 대비 상승/하락\n",
    "ly = []    #전년도 판매량\n",
    "ly_rate = []    #전년도 대비 상승/하락\n",
    "\n",
    "for i in range(len(numbers)):\n",
    "    if i%3==0:\n",
    "        rate.append(numbers[i].getText())\n",
    "    elif i%3==1:\n",
    "        k=numbers[i].find('span').getText().replace(\",\",\"\")\n",
    "        lm_rate.append(k)\n",
    "        lm.append(numbers[i].getText().replace(\",\",\"\")[:-len(k)])\n",
    "        \n",
    "    else:\n",
    "        y=numbers[i].find('span').getText().replace(\",\",\"\")\n",
    "        ly_rate.append(y)\n",
    "        ly.append(numbers[i].getText().replace(\",\",\"\")[:-len(y)])"
   ]
  },
  {
   "cell_type": "markdown",
   "metadata": {},
   "source": [
    "#### 굳이굳이 메소드로 만들어보기.."
   ]
  },
  {
   "cell_type": "code",
   "execution_count": 16,
   "metadata": {},
   "outputs": [],
   "source": [
    "def danawaRecord(url):\n",
    "    resp = requests.get(url,headers=headers)\n",
    "    html = BeautifulSoup(resp.content,'html.parser')\n",
    "    \n",
    "    grid = html.find('div',{'class':'recordSection'}) #record 섹션만 가져오기\n",
    "    \n",
    "    #랭킹\n",
    "    ranks = grid.select('td.rank')\n",
    "    ranking = []\n",
    "    for rank in ranks:\n",
    "        ranking.append(rank.getText())\n",
    "      \n",
    "    #모델명\n",
    "    modelName = []\n",
    "    names = grid.findAll('input')\n",
    "    for name in names:\n",
    "        modelName.append(name.get('title'))\n",
    "    \n",
    "    #판매실적\n",
    "    numbers = grid.findAll('td',{'class':'right'})\n",
    "    salesNum = []\n",
    "    rate = []    #점유율\n",
    "    lm = []    #전월 판매량\n",
    "    lm_rate = []   #전월 대비 상승/하락\n",
    "    ly = []    #전년도 판매량\n",
    "    ly_rate = []    #전년도 대비 상승/하락\n",
    "\n",
    "    for i in range(len(numbers)):\n",
    "        if i%3==0:\n",
    "            rate.append(numbers[i].getText())\n",
    "        elif i%3==1:\n",
    "            k=numbers[i].find('span').getText().replace(\",\",\"\")\n",
    "            lm_rate.append(k)\n",
    "            lm.append(numbers[i].getText().replace(\",\",\"\")[:-len(k)])\n",
    "        else:\n",
    "            y=numbers[i].find('span').getText().replace(\",\",\"\")\n",
    "            ly_rate.append(y)\n",
    "            ly.append(numbers[i].getText().replace(\",\",\"\")[:-len(y)])\n",
    "            \n",
    "    myung = {'순위':ranking, \"모델명\":modelName, \"점유율\":rate, \"전월 판매량\":lm, \"전월 대비 상승,하락\":lm_rate, \"전년도 판매량\": ly, \"전년도 대비 상승,하락\": ly_rate}\n",
    "    record = pd.DataFrame(myung)\n",
    "    \n",
    "    #excel 파일 저장\n",
    "    record.to_excel(writer, sheet_name = str(a)+str(l), header=True, encoding='utf-8', index=False)\n",
    "    writer.save()"
   ]
  },
  {
   "cell_type": "markdown",
   "metadata": {},
   "source": [
    "전체 년/월 데이터 가져오기"
   ]
  },
  {
   "cell_type": "code",
   "execution_count": 86,
   "metadata": {},
   "outputs": [
    {
     "name": "stdout",
     "output_type": "stream",
     "text": [
      "http://auto.danawa.com/auto/?Work=record&Tab=Model&Month=2017-01-00&MonthTo=\n",
      "http://auto.danawa.com/auto/?Work=record&Tab=Model&Month=2017-02-00&MonthTo=\n",
      "http://auto.danawa.com/auto/?Work=record&Tab=Model&Month=2017-03-00&MonthTo=\n",
      "http://auto.danawa.com/auto/?Work=record&Tab=Model&Month=2017-04-00&MonthTo=\n",
      "http://auto.danawa.com/auto/?Work=record&Tab=Model&Month=2017-05-00&MonthTo=\n",
      "http://auto.danawa.com/auto/?Work=record&Tab=Model&Month=2017-06-00&MonthTo=\n",
      "http://auto.danawa.com/auto/?Work=record&Tab=Model&Month=2017-07-00&MonthTo=\n",
      "http://auto.danawa.com/auto/?Work=record&Tab=Model&Month=2017-08-00&MonthTo=\n",
      "http://auto.danawa.com/auto/?Work=record&Tab=Model&Month=2017-09-00&MonthTo=\n",
      "http://auto.danawa.com/auto/?Work=record&Tab=Model&Month=2017-10-00&MonthTo=\n",
      "http://auto.danawa.com/auto/?Work=record&Tab=Model&Month=2017-11-00&MonthTo=\n",
      "http://auto.danawa.com/auto/?Work=record&Tab=Model&Month=2017-12-00&MonthTo=\n",
      "http://auto.danawa.com/auto/?Work=record&Tab=Model&Month=2018-01-00&MonthTo=\n",
      "http://auto.danawa.com/auto/?Work=record&Tab=Model&Month=2018-02-00&MonthTo=\n",
      "http://auto.danawa.com/auto/?Work=record&Tab=Model&Month=2018-03-00&MonthTo=\n",
      "http://auto.danawa.com/auto/?Work=record&Tab=Model&Month=2018-04-00&MonthTo=\n",
      "http://auto.danawa.com/auto/?Work=record&Tab=Model&Month=2018-05-00&MonthTo=\n",
      "http://auto.danawa.com/auto/?Work=record&Tab=Model&Month=2018-06-00&MonthTo=\n",
      "http://auto.danawa.com/auto/?Work=record&Tab=Model&Month=2018-07-00&MonthTo=\n",
      "http://auto.danawa.com/auto/?Work=record&Tab=Model&Month=2018-08-00&MonthTo=\n",
      "http://auto.danawa.com/auto/?Work=record&Tab=Model&Month=2018-09-00&MonthTo=\n",
      "http://auto.danawa.com/auto/?Work=record&Tab=Model&Month=2018-10-00&MonthTo=\n",
      "http://auto.danawa.com/auto/?Work=record&Tab=Model&Month=2018-11-00&MonthTo=\n",
      "http://auto.danawa.com/auto/?Work=record&Tab=Model&Month=2018-12-00&MonthTo=\n"
     ]
    }
   ],
   "source": [
    "final_url = \"http://auto.danawa.com/auto/?Work=record&Tab=Model&Month=\"\n",
    "\n",
    "path = 'C:/Users/이명아/Desktop/카바조/danawa2.xlsx'\n",
    "writer = pd.ExcelWriter(path, engine = 'openpyxl')\n",
    "\n",
    "# i 는 년도, j는 월을 의미. 2019년도 자료를 크롤링 하고 싶으면 i 의 범위를 2020까지 해주면 된다\n",
    "for a in range(2017,2019):  \n",
    "    for l in range(1,13):\n",
    "        if l<10:\n",
    "            geturl = final_url + str(a) + \"-0\" + str(l) + \"-00&MonthTo=\"\n",
    "        else :\n",
    "            geturl = final_url + str(a) + \"-\" + str(l) + \"-00&MonthTo=\"\n",
    "        danawaRecord(geturl)\n",
    "        print(geturl) \n",
    "        "
   ]
  },
  {
   "cell_type": "code",
   "execution_count": null,
   "metadata": {},
   "outputs": [],
   "source": []
  }
 ],
 "metadata": {
  "kernelspec": {
   "display_name": "Python 3",
   "language": "python",
   "name": "python3"
  },
  "language_info": {
   "codemirror_mode": {
    "name": "ipython",
    "version": 3
   },
   "file_extension": ".py",
   "mimetype": "text/x-python",
   "name": "python",
   "nbconvert_exporter": "python",
   "pygments_lexer": "ipython3",
   "version": "3.6.5"
  }
 },
 "nbformat": 4,
 "nbformat_minor": 2
}
