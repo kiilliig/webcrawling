{
 "cells": [
  {
   "cell_type": "markdown",
   "metadata": {},
   "source": [
    "# 셀레니움이란?\n",
    "* 웹앱을 테스트하는데 이용하는 프레임워크\n",
    "* webdriver라는 API를 통해 브라우저 제어함\n",
    "* 브라우저를 직접 동작시킨다 -> JS이용해 눈에 보이는 컨텐츠 모두 가져옴 : requests의 text와는 다르게 JS로 렌더링이 완료된 후의 DOM결과물에 접근 가능함"
   ]
  },
  {
   "cell_type": "code",
   "execution_count": 25,
   "metadata": {},
   "outputs": [],
   "source": [
    "from selenium import webdriver   #webdriver api 가져오기"
   ]
  },
  {
   "cell_type": "code",
   "execution_count": 26,
   "metadata": {},
   "outputs": [],
   "source": [
    "driver = webdriver.Chrome(\"C:/Users/이명아/Downloads/chromedriver.exe\")  # webdriver 객체 설정\n",
    "driver.implicitly_wait(3) # 웹 자원 로드를 위해 기다려줌"
   ]
  },
  {
   "cell_type": "markdown",
   "metadata": {},
   "source": [
    "## selenium이 driver객체를 통해 제공하는 메소드\n",
    "* Url에 접근하는 api \n",
    "    * get(\"url\")\n",
    "    \n",
    "    \n",
    "* 페이지의 단일 element에 접근하는 api\n",
    "    * find_element_by_name('HTML_name')       : class_name, tag_name 등\n",
    "    * find_element_by_id('HTML_id')\n",
    "    * find_element_by_xpath('html/body/some/xpath')\n",
    "        * https://wkdtjsgur100.github.io/selenium-xpath/ xpath 설명\n",
    "    \n",
    "    \n",
    "* 페이지의 여러 elements에 접근하는 api\n",
    "    * find_element_by_css_selector('#css > div.selector')\n",
    "    * find_element_by_class_name(‘some_class_name’)\n",
    "    * find_element_by_tag_name(‘h1’)\n",
    "    \n",
    "    \n",
    "    \n",
    "    \n",
    "**위 메소드는 html을 브라우저에서 파싱해주기 때문에 bs의 parser 사용해주지 않아도 된다**"
   ]
  },
  {
   "cell_type": "code",
   "execution_count": 27,
   "metadata": {},
   "outputs": [],
   "source": [
    "# url 가져오기\n",
    "# 네이버는 requests 보다 driver로 로그인하는게 더 좋다고 함\n",
    "driver.get('https://nid.naver.com/nidlogin.login')  #requests.get "
   ]
  },
  {
   "cell_type": "code",
   "execution_count": 28,
   "metadata": {},
   "outputs": [],
   "source": [
    "driver.find_element_by_name('id').send_keys('myid') #id 입력\n",
    "driver.find_element_by_name('pw').send_keys('mypw') #pw 입력"
   ]
  },
  {
   "cell_type": "code",
   "execution_count": 29,
   "metadata": {},
   "outputs": [],
   "source": [
    "driver.find_element_by_xpath('//*[@id=\"frmNIDLogin\"]/fieldset/input').click() #로그인 배너 클릭\n",
    "\n",
    "#xpath 문법은 어렵다.."
   ]
  }
 ],
 "metadata": {
  "kernelspec": {
   "display_name": "Python 3",
   "language": "python",
   "name": "python3"
  },
  "language_info": {
   "codemirror_mode": {
    "name": "ipython",
    "version": 3
   },
   "file_extension": ".py",
   "mimetype": "text/x-python",
   "name": "python",
   "nbconvert_exporter": "python",
   "pygments_lexer": "ipython3",
   "version": "3.6.5"
  }
 },
 "nbformat": 4,
 "nbformat_minor": 2
}
